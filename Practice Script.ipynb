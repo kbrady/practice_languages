{
 "cells": [
  {
   "cell_type": "markdown",
   "metadata": {},
   "source": [
    "#Practice Translating Similar Sentences\n",
    "\n",
    "##Learn gramar rules by translating sentences which are very close to each other\n",
    "\n",
    "###Set up your text to speech\n",
    "In order to read the text of your target lanuage outloud you will need to have downloaded the necessary text to speech setting for your computer. To set this up go to your computer's settings, search for text to speech and try to set the language to your target language. Your computer will prompt you to download the correct files.\n",
    "\n",
    "###Load the neccessary libraries"
   ]
  },
  {
   "cell_type": "code",
   "execution_count": null,
   "metadata": {
    "collapsed": false
   },
   "outputs": [],
   "source": [
    "# to store a corpus once it is computed\n",
    "import pickle\n",
    "# to select a random set of sentences to work with\n",
    "import numpy as np\n",
    "# to display the javascript interface\n",
    "from IPython.display import HTML\n",
    "# to find the pickled file to load\n",
    "from os import path\n",
    "# to read in the data downloaded from http://tatoeba.org/eng/downloads\n",
    "import csv\n",
    "# to filter out white space etc.\n",
    "import re"
   ]
  },
  {
   "cell_type": "markdown",
   "metadata": {},
   "source": [
    "##Download the necessary data\n",
    "\n",
    "Go to the following links\n",
    "- http://downloads.tatoeba.org/exports/sentences.tar.bz2\n",
    "- http://downloads.tatoeba.org/exports/links.tar.bz2\n",
    "\n",
    "Unzip the files and save them as **`sentences.csv`** and **`links.csv`**"
   ]
  },
  {
   "cell_type": "markdown",
   "metadata": {},
   "source": [
    "### Next select the languages you would like to translate between\n",
    "\n",
    "The current set of tested languages are:\n",
    "\n",
    "- \"eng\" for English with 575759 sentences\n",
    "- \"tur\" for Turkish with 378117 sentences\n",
    "- \"cmn\" for Chinese (Mandarin) with 48906 sentences\n",
    "\n",
    "For the full set of codes and number of sentences in each go to http://tatoeba.org/eng/stats/sentences_by_language\n",
    "\n",
    "If you would like sentences in the source or target language read out to you set **`voice_from_language`** or **`voice_to_language`** to **`True`**"
   ]
  },
  {
   "cell_type": "code",
   "execution_count": null,
   "metadata": {
    "collapsed": false
   },
   "outputs": [],
   "source": [
    "language_to_translate_from = \"cmn\"\n",
    "language_to_translate_to = \"eng\"\n",
    "voice_from_language = True\n",
    "voice_to_language = False"
   ]
  },
  {
   "cell_type": "markdown",
   "metadata": {},
   "source": [
    "### Next load the sentences for the language you selected\n",
    "\n",
    "If you have already built the corpus the program will load a pickled dump file.\n",
    "\n",
    "If not it will build the program from scratch using data dumps from http://tatoeba.org/eng/downloads"
   ]
  },
  {
   "cell_type": "code",
   "execution_count": null,
   "metadata": {
    "collapsed": false
   },
   "outputs": [],
   "source": [
    "class sentence:\n",
    "    def __init__(self, id, lang, text):\n",
    "        self.id = id\n",
    "        self.lang = lang\n",
    "        self.text = text\n",
    "        self.tokens = tokenize(self.text, lang)\n",
    "        self.translations = []\n",
    "\n",
    "class corpus_class:\n",
    "    def __init__(self, from_lang, to_lang):\n",
    "        self.to_lang = to_lang\n",
    "        self.from_lang = from_lang\n",
    "        self.to_lookup = {}\n",
    "        self.from_lookup = {}\n",
    "    \n",
    "    def add_sentence(self, sent_id, lang, row):\n",
    "        if lang == self.from_lang:\n",
    "            self.from_lookup[sent_id] = sentence(sent_id, lang, row)\n",
    "        if lang == self.to_lang:\n",
    "            self.to_lookup[sent_id] = sentence(sent_id, lang, row)\n",
    "    \n",
    "    def add_translation(self, id_1, id_2):\n",
    "        if (id_1 in self.from_lookup and id_2 in self.to_lookup):\n",
    "            self.from_lookup[id_1].translations.append(id_2)\n",
    "            self.to_lookup[id_2].translations.append(id_1)\n",
    "        if (id_2 in self.from_lookup and id_1 in self.to_lookup):\n",
    "            self.from_lookup[id_2].translations.append(id_1)\n",
    "            self.to_lookup[id_1].translations.append(id_2)\n",
    "    \n",
    "    def clean_up(self):\n",
    "        for sent_id in self.to_lookup.keys():\n",
    "            if len(self.to_lookup[sent_id].translations) == 0:\n",
    "                del self.to_lookup[sent_id]\n",
    "        for sent_id in self.from_lookup.keys():\n",
    "            if len(self.from_lookup[sent_id].translations) == 0:\n",
    "                del self.from_lookup[sent_id]\n",
    "\n",
    "def tokenize(text, lang):\n",
    "    if lang == 'cmn':\n",
    "        tokens = [text[(i*3):(i*3)+3] for i in range(len(text)/3)]\n",
    "        return tokens\n",
    "    tokens = [t for t in re.split('[ \\t.()\"!?]+', text) if len(t) > 0]\n",
    "    return tokens\n",
    " \n",
    "filename = '_'.join([language_to_translate_from, language_to_translate_to, 'corpus.dump'])\n",
    "if path.isfile(filename):\n",
    "    corpus = pickle.load(open(filename, 'rb'))\n",
    "else:\n",
    "    corpus = corpus_class(language_to_translate_from, language_to_translate_to)\n",
    "    with open('sentences.csv', 'rb') as csvfile:\n",
    "        csv_reader = csv.reader(csvfile, delimiter=\"\\t\")\n",
    "        for row in csv_reader:\n",
    "            sent_id, lang, text = row\n",
    "            if lang != language_to_translate_from and lang != language_to_translate_to:\n",
    "                continue\n",
    "            corpus.add_sentence(sent_id, lang, text)\n",
    "    with open('links.csv', 'rb') as csvfile:\n",
    "        csv_reader = csv.reader(csvfile, delimiter=\"\\t\")\n",
    "        for row in csv_reader:\n",
    "            id_1, id_2 = row\n",
    "            if id_1 < id_2:\n",
    "                corpus.add_translation(id_1, id_2)\n",
    "    corpus.clean_up()\n",
    "    pickle.dump(corpus, open(filename, 'wb'), pickle.HIGHEST_PROTOCOL)"
   ]
  },
  {
   "cell_type": "markdown",
   "metadata": {},
   "source": [
    "### Next we have a script to randomly pick a set of sentences which are very similar to eachother"
   ]
  },
  {
   "cell_type": "code",
   "execution_count": null,
   "metadata": {
    "collapsed": true
   },
   "outputs": [],
   "source": [
    "def rand_practice():\n",
    "    all_ids = corpus.from_lookup.keys()\n",
    "    index = int(np.random.uniform(0, len(all_ids)))\n",
    "    index = all_ids[index]\n",
    "    start_sentence = corpus.from_lookup[index]\n",
    "    return practice(set(start_sentence.tokens))\n",
    "\n",
    "def practice_sentence(start_string):\n",
    "    start_token_set = set(tokenize(start_string, language_to_translate_from))\n",
    "    return practice(start_token_set)\n",
    "\n",
    "def practice_short(max_length):\n",
    "    short_keys = [s_id for s_id in corpus.from_lookup.keys() if len(corpus.from_lookup[s_id].tokens) <= max_length]\n",
    "    index = int(np.random.uniform(0, len(short_keys)))\n",
    "    index = short_keys[index]\n",
    "    start_sentence = corpus.from_lookup[index]\n",
    "    return practice(set(start_sentence.tokens))\n",
    "\n",
    "def practice(start_token_set):\n",
    "    global all_pairs, current_pair, first_try\n",
    "    key_fun = lambda s: len(set(s.tokens) & start_token_set)\n",
    "    close_list = corpus.from_lookup.values()\n",
    "    close_list.sort(key = key_fun, reverse = True)\n",
    "    close_list = close_list[:10]\n",
    "    \n",
    "    all_pairs = []\n",
    "    for s in close_list:\n",
    "        translations = [corpus.to_lookup[trans_id] for trans_id in s.translations]\n",
    "        all_pairs.append(([' '.join(t.tokens) for t in translations],s))\n",
    "    \n",
    "    if len(all_pairs) == 0:\n",
    "        return rand_practice()\n",
    "    current_pair = all_pairs.pop(0)\n",
    "    first_try = True\n",
    "    return HTML(practice_box('Translate ' + current_pair[1].text + \":\"))\n",
    "\n",
    "def make_guess(answer):\n",
    "    global current_pair, first_try\n",
    "    original_answer = answer\n",
    "    answer = ' '.join([t for t in re.split('[ \\t.()\"!?]+', answer) if len(t) > 0])\n",
    "    if answer == 'STOP':\n",
    "        return \"Finished\"\n",
    "    if answer == 'FIRST TIME':\n",
    "        return 'Translate ' + current_pair[1].text + \":\"\n",
    "    if answer not in current_pair[0]:\n",
    "        if first_try:\n",
    "            all_pairs.append(current_pair)\n",
    "            first_try = False\n",
    "        return '<br/>'.join(current_pair[0] + ['Translate ' + current_pair[1].text + ':'])\n",
    "    if len(all_pairs) > 0:\n",
    "        first_try = True\n",
    "        current_pair = all_pairs.pop(0)\n",
    "        return 'Translate ' + current_pair[1].text + \":\"\n",
    "    return \"Finished\""
   ]
  },
  {
   "cell_type": "markdown",
   "metadata": {},
   "source": [
    "### Now we make a script to interact with the user using javascript"
   ]
  },
  {
   "cell_type": "code",
   "execution_count": null,
   "metadata": {
    "collapsed": true
   },
   "outputs": [],
   "source": [
    "def practice_box(prompt):\n",
    "    \n",
    "    input_form = \"\"\"\n",
    "    <div style=\"background-color:gainsboro; border:solid black; padding:20px;\">\n",
    "    <p id='prompt'></p>\n",
    "    <input type=\"text\" value=\"FIRST TIME\" id='guess'><br>\n",
    "    <button id='guess-submit' onclick=\"make_guess()\">Guess</button>\n",
    "    </div>\n",
    "    \"\"\"\n",
    "\n",
    "    javascript = \"\"\"\n",
    "    <script type=\"text/Javascript\">\n",
    "    function handle_output(out){\n",
    "        var res = eval(out.content.data['text/plain']);\n",
    "        res = decodeURIComponent(escape(res));\n",
    "        document.getElementById('prompt').innerHTML = res;\n",
    "        document.getElementById('guess').value = \"\";\"\"\"\n",
    "    \n",
    "    if voice_to_language:\n",
    "        javascript += \"\"\"\n",
    "        if (guess != \"FIRST TIME\") {\n",
    "            var break_index = res.indexOf(\"<br/>\");\n",
    "            if (break_index == -1) {\n",
    "                say_to(guess);\n",
    "            } else {\n",
    "                say_to(res.substr(0,break_index));\n",
    "            }\n",
    "        }\n",
    "        \"\"\"\n",
    "    \n",
    "    if voice_from_language:\n",
    "        javascript += \"\"\"\n",
    "        var break_index = res.lastIndexOf(\"<br/>\");\n",
    "        if (break_index == -1 && res != \"Finished\") {\n",
    "            say_from(res.substr(\"Translate \".length,res.lastIndexOf(\":\")));\n",
    "        } else {\n",
    "            say_from(res.substr(break_index + \"<br/>\".length + \"Translate \".length , res.lastIndexOf(\":\")));\n",
    "        }\"\"\"\n",
    "    \n",
    "    javascript += \"\"\"\n",
    "        if (res == \"Finished\") {\n",
    "            document.getElementById('guess').style.display = 'none';\n",
    "            document.getElementById('guess-submit').style.display = 'none';\n",
    "        }\n",
    "    }\n",
    "    \n",
    "    var guess = \"\";\n",
    "    function make_guess(){\n",
    "        guess = document.getElementById('guess').value;\n",
    "        var command = 'make_guess(\"'+guess+'\")';\n",
    "        console.log(\"Executing Command: \" + command);\n",
    "\n",
    "        var kernel = IPython.notebook.kernel;\n",
    "        var msg_id = kernel.execute(command, {'iopub': {'output' : handle_output}}, {silent:false});\n",
    "    }\n",
    "    \n",
    "    function say_to(text) {\n",
    "        console.log(\"say \"+text);\n",
    "        var msg = new SpeechSynthesisUtterance(text);\n",
    "        msg.lang = '\"\"\"\n",
    "    \n",
    "    javascript += language_to_translate_to\n",
    "    \n",
    "    javascript += \"\"\"';\n",
    "        window.speechSynthesis.speak(msg);\n",
    "    }\n",
    "    \n",
    "    function say_from(text) {\n",
    "        console.log(\"say: \"+text);\n",
    "        var msg = new SpeechSynthesisUtterance(text);\n",
    "        msg.lang = '\"\"\"\n",
    "    \n",
    "    javascript += language_to_translate_from\n",
    "    \n",
    "    javascript += \"\"\"';\n",
    "        window.speechSynthesis.speak(msg);\n",
    "    }\n",
    "    make_guess();\n",
    "    </script>\n",
    "    \"\"\"\n",
    "    \n",
    "    return input_form + javascript"
   ]
  },
  {
   "cell_type": "markdown",
   "metadata": {},
   "source": [
    "## Finally we can actually run the program!\n",
    "\n",
    "####Run Commands\n",
    "\n",
    "To start practicing from a random sentence enter the command `rand_practice()`\n",
    "\n",
    "If you want to limit the number of tokens in the sentences you practice with enter the command `practice_short(<max_length>)`\n",
    "\n",
    "If you have a particular seed sentence you would like to start with enter the command `practice_sentence(<your_sentence>)`\n",
    "\n",
    "####How to use\n",
    "\n",
    "Once you run the command wait a bit and a box should appear bellow the cell. The box will ask you to translate a sentence from the language you picked for `language_to_translate_from`. Write that sentence in the language you picked for `language_to_translate_to`.\n",
    "\n",
    "If you don't know the translation just click the \"Guess\" button and the program will tell you the answer (it will do the same thing if you get the answer wrong).\n",
    "\n",
    "You will be given 10 similar sentences to translate from the source language to the target language. If you don't get a sentence on the first try it will be added to the end of the queue. Once the the queue is empty the box will say \"Finished\". If you want to keep practicing at this point you can run the script again."
   ]
  },
  {
   "cell_type": "code",
   "execution_count": null,
   "metadata": {
    "collapsed": false
   },
   "outputs": [],
   "source": [
    "practice_short(5)"
   ]
  },
  {
   "cell_type": "code",
   "execution_count": null,
   "metadata": {
    "collapsed": true
   },
   "outputs": [],
   "source": []
  }
 ],
 "metadata": {
  "kernelspec": {
   "display_name": "Python 2",
   "language": "python",
   "name": "python2"
  },
  "language_info": {
   "codemirror_mode": {
    "name": "ipython",
    "version": 2
   },
   "file_extension": ".py",
   "mimetype": "text/x-python",
   "name": "python",
   "nbconvert_exporter": "python",
   "pygments_lexer": "ipython2",
   "version": "2.7.9"
  }
 },
 "nbformat": 4,
 "nbformat_minor": 0
}
